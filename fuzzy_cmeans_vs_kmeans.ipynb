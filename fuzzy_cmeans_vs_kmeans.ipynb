{
 "cells": [
  {
   "cell_type": "code",
   "execution_count": 1,
   "id": "cde75a33",
   "metadata": {},
   "outputs": [],
   "source": [
    "from sklearn import datasets\n",
    "from sklearn.cluster import KMeans\n",
    "import pandas as pd\n",
    "import numpy as np\n",
    "import matplotlib.pyplot as plt\n",
    "import sklearn.metrics as sm\n",
    "from fcmeans import FCM\n",
    "import seaborn as sns\n",
    "import pandas as pd\n",
    "from sklearn.metrics import classification_report\n",
    "from sklearn.model_selection import GridSearchCV"
   ]
  },
  {
   "cell_type": "code",
   "execution_count": 2,
   "id": "f86e2102",
   "metadata": {},
   "outputs": [],
   "source": [
    "iris = datasets.load_iris()\n",
    "\n",
    "data=pd.DataFrame({\n",
    "    'sepal length': iris.data[:,0],\n",
    "    'sepal width': iris.data[:,1],\n",
    "    'petal length': iris.data[:,2],\n",
    "    'petal width': iris.data[:,3],\n",
    "    'species': iris.target\n",
    "})\n",
    "\n",
    "x=data[['sepal length', 'sepal width', 'petal length', 'petal width']]  # Features\n",
    "y=data['species']  # Labels\n",
    "\n",
    "#x = pd.DataFrame(iris.data, columns=['Sepal Length', 'Sepal Width', 'Petal Length', 'Petal Width'])\n",
    "#y = pd.DataFrame(iris.target, columns=['Target'])"
   ]
  },
  {
   "cell_type": "markdown",
   "id": "8a380a6e-b189-4cef-aa7a-51f00404beb5",
   "metadata": {},
   "source": [
    "# Análise Exploratória de Dados (EDA)"
   ]
  },
  {
   "cell_type": "code",
   "execution_count": 3,
   "id": "7e464b42-db4d-44a5-82e5-60f88d83463b",
   "metadata": {},
   "outputs": [
    {
     "data": {
      "text/html": [
       "<div>\n",
       "<style scoped>\n",
       "    .dataframe tbody tr th:only-of-type {\n",
       "        vertical-align: middle;\n",
       "    }\n",
       "\n",
       "    .dataframe tbody tr th {\n",
       "        vertical-align: top;\n",
       "    }\n",
       "\n",
       "    .dataframe thead th {\n",
       "        text-align: right;\n",
       "    }\n",
       "</style>\n",
       "<table border=\"1\" class=\"dataframe\">\n",
       "  <thead>\n",
       "    <tr style=\"text-align: right;\">\n",
       "      <th></th>\n",
       "      <th>sepal length</th>\n",
       "      <th>sepal width</th>\n",
       "      <th>petal length</th>\n",
       "      <th>petal width</th>\n",
       "      <th>species</th>\n",
       "    </tr>\n",
       "  </thead>\n",
       "  <tbody>\n",
       "    <tr>\n",
       "      <th>0</th>\n",
       "      <td>5.1</td>\n",
       "      <td>3.5</td>\n",
       "      <td>1.4</td>\n",
       "      <td>0.2</td>\n",
       "      <td>0</td>\n",
       "    </tr>\n",
       "    <tr>\n",
       "      <th>1</th>\n",
       "      <td>4.9</td>\n",
       "      <td>3.0</td>\n",
       "      <td>1.4</td>\n",
       "      <td>0.2</td>\n",
       "      <td>0</td>\n",
       "    </tr>\n",
       "    <tr>\n",
       "      <th>2</th>\n",
       "      <td>4.7</td>\n",
       "      <td>3.2</td>\n",
       "      <td>1.3</td>\n",
       "      <td>0.2</td>\n",
       "      <td>0</td>\n",
       "    </tr>\n",
       "    <tr>\n",
       "      <th>3</th>\n",
       "      <td>4.6</td>\n",
       "      <td>3.1</td>\n",
       "      <td>1.5</td>\n",
       "      <td>0.2</td>\n",
       "      <td>0</td>\n",
       "    </tr>\n",
       "    <tr>\n",
       "      <th>4</th>\n",
       "      <td>5.0</td>\n",
       "      <td>3.6</td>\n",
       "      <td>1.4</td>\n",
       "      <td>0.2</td>\n",
       "      <td>0</td>\n",
       "    </tr>\n",
       "    <tr>\n",
       "      <th>...</th>\n",
       "      <td>...</td>\n",
       "      <td>...</td>\n",
       "      <td>...</td>\n",
       "      <td>...</td>\n",
       "      <td>...</td>\n",
       "    </tr>\n",
       "    <tr>\n",
       "      <th>145</th>\n",
       "      <td>6.7</td>\n",
       "      <td>3.0</td>\n",
       "      <td>5.2</td>\n",
       "      <td>2.3</td>\n",
       "      <td>2</td>\n",
       "    </tr>\n",
       "    <tr>\n",
       "      <th>146</th>\n",
       "      <td>6.3</td>\n",
       "      <td>2.5</td>\n",
       "      <td>5.0</td>\n",
       "      <td>1.9</td>\n",
       "      <td>2</td>\n",
       "    </tr>\n",
       "    <tr>\n",
       "      <th>147</th>\n",
       "      <td>6.5</td>\n",
       "      <td>3.0</td>\n",
       "      <td>5.2</td>\n",
       "      <td>2.0</td>\n",
       "      <td>2</td>\n",
       "    </tr>\n",
       "    <tr>\n",
       "      <th>148</th>\n",
       "      <td>6.2</td>\n",
       "      <td>3.4</td>\n",
       "      <td>5.4</td>\n",
       "      <td>2.3</td>\n",
       "      <td>2</td>\n",
       "    </tr>\n",
       "    <tr>\n",
       "      <th>149</th>\n",
       "      <td>5.9</td>\n",
       "      <td>3.0</td>\n",
       "      <td>5.1</td>\n",
       "      <td>1.8</td>\n",
       "      <td>2</td>\n",
       "    </tr>\n",
       "  </tbody>\n",
       "</table>\n",
       "<p>150 rows × 5 columns</p>\n",
       "</div>"
      ],
      "text/plain": [
       "     sepal length  sepal width  petal length  petal width  species\n",
       "0             5.1          3.5           1.4          0.2        0\n",
       "1             4.9          3.0           1.4          0.2        0\n",
       "2             4.7          3.2           1.3          0.2        0\n",
       "3             4.6          3.1           1.5          0.2        0\n",
       "4             5.0          3.6           1.4          0.2        0\n",
       "..            ...          ...           ...          ...      ...\n",
       "145           6.7          3.0           5.2          2.3        2\n",
       "146           6.3          2.5           5.0          1.9        2\n",
       "147           6.5          3.0           5.2          2.0        2\n",
       "148           6.2          3.4           5.4          2.3        2\n",
       "149           5.9          3.0           5.1          1.8        2\n",
       "\n",
       "[150 rows x 5 columns]"
      ]
     },
     "execution_count": 3,
     "metadata": {},
     "output_type": "execute_result"
    }
   ],
   "source": [
    "data"
   ]
  },
  {
   "cell_type": "markdown",
   "id": "18a49ac9-9dc6-4a57-b923-a249ecddaa88",
   "metadata": {},
   "source": [
    "Exibindo nossas classes"
   ]
  },
  {
   "cell_type": "code",
   "execution_count": 4,
   "id": "f2df0b93-6f6d-4033-8437-48c440685dea",
   "metadata": {},
   "outputs": [
    {
     "name": "stdout",
     "output_type": "stream",
     "text": [
      "['setosa' 'versicolor' 'virginica']\n"
     ]
    }
   ],
   "source": [
    "print(iris.target_names)"
   ]
  },
  {
   "cell_type": "code",
   "execution_count": 5,
   "id": "ad8f72b1-efd1-42ae-8808-1e8d6332eb5a",
   "metadata": {},
   "outputs": [
    {
     "data": {
      "text/html": [
       "<div>\n",
       "<style scoped>\n",
       "    .dataframe tbody tr th:only-of-type {\n",
       "        vertical-align: middle;\n",
       "    }\n",
       "\n",
       "    .dataframe tbody tr th {\n",
       "        vertical-align: top;\n",
       "    }\n",
       "\n",
       "    .dataframe thead th {\n",
       "        text-align: right;\n",
       "    }\n",
       "</style>\n",
       "<table border=\"1\" class=\"dataframe\">\n",
       "  <thead>\n",
       "    <tr style=\"text-align: right;\">\n",
       "      <th></th>\n",
       "      <th>sepal length</th>\n",
       "      <th>sepal width</th>\n",
       "      <th>petal length</th>\n",
       "      <th>petal width</th>\n",
       "      <th>species</th>\n",
       "    </tr>\n",
       "  </thead>\n",
       "  <tbody>\n",
       "    <tr>\n",
       "      <th>sepal length</th>\n",
       "      <td>1.000000</td>\n",
       "      <td>-0.117570</td>\n",
       "      <td>0.871754</td>\n",
       "      <td>0.817941</td>\n",
       "      <td>0.782561</td>\n",
       "    </tr>\n",
       "    <tr>\n",
       "      <th>sepal width</th>\n",
       "      <td>-0.117570</td>\n",
       "      <td>1.000000</td>\n",
       "      <td>-0.428440</td>\n",
       "      <td>-0.366126</td>\n",
       "      <td>-0.426658</td>\n",
       "    </tr>\n",
       "    <tr>\n",
       "      <th>petal length</th>\n",
       "      <td>0.871754</td>\n",
       "      <td>-0.428440</td>\n",
       "      <td>1.000000</td>\n",
       "      <td>0.962865</td>\n",
       "      <td>0.949035</td>\n",
       "    </tr>\n",
       "    <tr>\n",
       "      <th>petal width</th>\n",
       "      <td>0.817941</td>\n",
       "      <td>-0.366126</td>\n",
       "      <td>0.962865</td>\n",
       "      <td>1.000000</td>\n",
       "      <td>0.956547</td>\n",
       "    </tr>\n",
       "    <tr>\n",
       "      <th>species</th>\n",
       "      <td>0.782561</td>\n",
       "      <td>-0.426658</td>\n",
       "      <td>0.949035</td>\n",
       "      <td>0.956547</td>\n",
       "      <td>1.000000</td>\n",
       "    </tr>\n",
       "  </tbody>\n",
       "</table>\n",
       "</div>"
      ],
      "text/plain": [
       "              sepal length  sepal width  petal length  petal width   species\n",
       "sepal length      1.000000    -0.117570      0.871754     0.817941  0.782561\n",
       "sepal width      -0.117570     1.000000     -0.428440    -0.366126 -0.426658\n",
       "petal length      0.871754    -0.428440      1.000000     0.962865  0.949035\n",
       "petal width       0.817941    -0.366126      0.962865     1.000000  0.956547\n",
       "species           0.782561    -0.426658      0.949035     0.956547  1.000000"
      ]
     },
     "execution_count": 5,
     "metadata": {},
     "output_type": "execute_result"
    }
   ],
   "source": [
    "correlations = data.corr()\n",
    "correlations"
   ]
  },
  {
   "cell_type": "markdown",
   "id": "3533d7e5-dc65-4118-a401-961f4973bc6c",
   "metadata": {},
   "source": [
    "A matrix de correção nos indica quais são os atributos que possuem maior correlação entre si.\n",
    "No plot abaixo, vemos que que há uma forte correlação positiva entre Petal Width Petal Length"
   ]
  },
  {
   "cell_type": "code",
   "execution_count": 6,
   "id": "c61692ec-db83-40cf-83a6-f1a4e3bce750",
   "metadata": {},
   "outputs": [
    {
     "data": {
      "image/png": "[encoded data removed]",
      "text/plain": [
       "<Figure size 720x576 with 2 Axes>"
      ]
     },
     "metadata": {
      "needs_background": "light"
     },
     "output_type": "display_data"
    }
   ],
   "source": [
    "plt.figure(figsize=(10,8)) \n",
    "sns.heatmap(\n",
    "    correlations,\n",
    "    annot=True,\n",
    "    xticklabels=correlations.columns.values,\n",
    "    yticklabels=correlations.columns.values,\n",
    "    cmap='YlGnBu'\n",
    ")\n",
    "plt.show()"
   ]
  },
  {
   "cell_type": "markdown",
   "id": "b036c590-a9c5-479b-9690-d2c3311aff9e",
   "metadata": {},
   "source": [
    "Explorando distribuição dos dados"
   ]
  },
  {
   "cell_type": "code",
   "execution_count": 7,
   "id": "2f8f003e-8d8e-4271-aa86-dfb2da3216bd",
   "metadata": {},
   "outputs": [
    {
     "data": {
      "image/png": "[encoded data removed]",
      "text/plain": [
       "<Figure size 432x288 with 1 Axes>"
      ]
     },
     "metadata": {
      "needs_background": "light"
     },
     "output_type": "display_data"
    },
    {
     "data": {
      "image/png": "[encoded data removed]",
      "text/plain": [
       "<Figure size 432x288 with 1 Axes>"
      ]
     },
     "metadata": {
      "needs_background": "light"
     },
     "output_type": "display_data"
    },
    {
     "data": {
      "image/png": "[encoded data removed]",
      "text/plain": [
       "<Figure size 432x288 with 1 Axes>"
      ]
     },
     "metadata": {
      "needs_background": "light"
     },
     "output_type": "display_data"
    },
    {
     "data": {
      "image/png": "[encoded data removed]",
      "text/plain": [
       "<Figure size 432x288 with 1 Axes>"
      ]
     },
     "metadata": {
      "needs_background": "light"
     },
     "output_type": "display_data"
    }
   ],
   "source": [
    "for i, item in enumerate(list(data.columns.values)[:4]):\n",
    "    plt.figure(i) \n",
    "    sns.histplot(data=data[item])"
   ]
  },
  {
   "cell_type": "code",
   "execution_count": 8,
   "id": "42298f85-d6aa-4dc4-973f-5536fc739085",
   "metadata": {},
   "outputs": [
    {
     "data": {
      "text/plain": [
       "<AxesSubplot:xlabel='sepal length', ylabel='Count'>"
      ]
     },
     "execution_count": 8,
     "metadata": {},
     "output_type": "execute_result"
    },
    {
     "data": {
      "image/png": "[encoded data removed]",
      "text/plain": [
       "<Figure size 432x288 with 1 Axes>"
      ]
     },
     "metadata": {
      "needs_background": "light"
     },
     "output_type": "display_data"
    }
   ],
   "source": [
    "sns.histplot(data=data['sepal length'])"
   ]
  },
  {
   "cell_type": "code",
   "execution_count": 9,
   "id": "ebff3aa3-feca-429d-9c26-b54ea6ab754b",
   "metadata": {},
   "outputs": [],
   "source": [
    "#import pandas as pd\n",
    "#iris = pd.read_csv(\"C:\\\\Users\\\\bruno\\\\Downloads\\\\Iris.csv\", names=['Sepal Length', 'Sepal Width', 'Petal Length', 'Petal Width', 'Target']\n",
    "#                   ,header=None, skiprows=1) #load the dataset\n",
    "#iris.head(5)"
   ]
  },
  {
   "cell_type": "code",
   "execution_count": 10,
   "id": "1ec1a9fb-2262-4f45-bee8-24851ac42512",
   "metadata": {},
   "outputs": [],
   "source": [
    "#x = iris.iloc[:, 0:4] \n",
    "#y = iris['Target']"
   ]
  },
  {
   "cell_type": "markdown",
   "id": "aae59363-f090-4930-aa86-f2d955b60fc7",
   "metadata": {},
   "source": [
    "# KNN"
   ]
  },
  {
   "cell_type": "code",
   "execution_count": 11,
   "id": "cfa00fb6-5beb-447d-85fd-66c4c73cfc25",
   "metadata": {},
   "outputs": [],
   "source": [
    "from sklearn.preprocessing import StandardScaler, Normalizer"
   ]
  },
  {
   "cell_type": "code",
   "execution_count": 12,
   "id": "eeecebe4-485d-47cd-8845-8db608ebf7bb",
   "metadata": {},
   "outputs": [],
   "source": [
    "from sklearn.neighbors import KNeighborsClassifier\n",
    "from sklearn.metrics import confusion_matrix, accuracy_score\n",
    "from sklearn.model_selection import cross_val_score"
   ]
  },
  {
   "cell_type": "code",
   "execution_count": 13,
   "id": "82222ebd-3644-4e80-add4-af10a08106cb",
   "metadata": {},
   "outputs": [],
   "source": [
    "from sklearn.model_selection import train_test_split\n",
    "X_train, X_test, y_train, y_test = train_test_split(x, y, test_size = 0.3, random_state = 111)"
   ]
  },
  {
   "cell_type": "markdown",
   "id": "7b547e71-24f7-42b3-b8dc-a3593935016c",
   "metadata": {},
   "source": [
    "Alguns algormitmos podem sofrem problemas se tivermos variáveis com diferetes escalas, por exemplo, algitmomos que trabalham com medidadas de distância. \n",
    "Por isso, normalizamos nosso dataset fazendo com que nossos dados tenham média zero e desvio padrão igual a 1"
   ]
  },
  {
   "cell_type": "code",
   "execution_count": 14,
   "id": "b619a747-2c17-44e6-aaac-a44b03f2b626",
   "metadata": {},
   "outputs": [],
   "source": [
    "std_slc = StandardScaler()\n",
    "std_slc.fit(X_train)\n",
    "X_train_std = std_slc.transform(X_train)\n",
    "X_test_std = std_slc.transform(X_test)"
   ]
  },
  {
   "cell_type": "code",
   "execution_count": 15,
   "id": "31846121-232a-451f-bb72-9848599f6f79",
   "metadata": {},
   "outputs": [],
   "source": [
    "classifier = KNeighborsClassifier(n_neighbors=16)"
   ]
  },
  {
   "cell_type": "code",
   "execution_count": 16,
   "id": "8ab9deb5-c224-445a-818b-34223fbcea08",
   "metadata": {},
   "outputs": [
    {
     "data": {
      "text/plain": [
       "KNeighborsClassifier(n_neighbors=16)"
      ]
     },
     "execution_count": 16,
     "metadata": {},
     "output_type": "execute_result"
    }
   ],
   "source": [
    "classifier.fit(X_train_std, y_train)"
   ]
  },
  {
   "cell_type": "code",
   "execution_count": 17,
   "id": "3dd8f94c-4e4a-4c7c-92f3-b65576f2e5c6",
   "metadata": {},
   "outputs": [],
   "source": [
    "y_pred = classifier.predict(X_test_std)"
   ]
  },
  {
   "cell_type": "code",
   "execution_count": 18,
   "id": "7b79eca1-5984-4507-a3a2-035186fa0943",
   "metadata": {},
   "outputs": [
    {
     "name": "stdout",
     "output_type": "stream",
     "text": [
      "Acurácia: 95.56 %\n"
     ]
    }
   ],
   "source": [
    "accuracy = accuracy_score(y_test, y_pred) * 100\n",
    "print(f'Acurácia: {str(round(accuracy, 2)) } %')"
   ]
  },
  {
   "cell_type": "code",
   "execution_count": 19,
   "id": "58fb59b3-be10-4bc7-a3ab-f7a3ea7c483c",
   "metadata": {},
   "outputs": [],
   "source": [
    "k_values = range(1, 20, 1)\n",
    "#cross_val_scores = []\n",
    "\n",
    "cross_val_scores = pd.DataFrame()\n",
    "\n",
    "i = 1\n",
    "for K in k_values:\n",
    "    knn = KNeighborsClassifier(n_neighbors=K)\n",
    "    scores = cross_val_score(knn, X_train, y_train, cv=10, scoring='accuracy')\n",
    "    #cross_val_scores.append(scores.mean())\n",
    "    cross_val_scores.loc[i, 'error'] = 1 - scores.mean()\n",
    "    cross_val_scores.loc[i, 'k'] = K\n",
    "    i += 1"
   ]
  },
  {
   "cell_type": "code",
   "execution_count": 20,
   "id": "266daa76-c721-47ec-ab2a-1ec5921d71e9",
   "metadata": {},
   "outputs": [
    {
     "data": {
      "text/html": [
       "<div>\n",
       "<style scoped>\n",
       "    .dataframe tbody tr th:only-of-type {\n",
       "        vertical-align: middle;\n",
       "    }\n",
       "\n",
       "    .dataframe tbody tr th {\n",
       "        vertical-align: top;\n",
       "    }\n",
       "\n",
       "    .dataframe thead th {\n",
       "        text-align: right;\n",
       "    }\n",
       "</style>\n",
       "<table border=\"1\" class=\"dataframe\">\n",
       "  <thead>\n",
       "    <tr style=\"text-align: right;\">\n",
       "      <th></th>\n",
       "      <th>error</th>\n",
       "      <th>k</th>\n",
       "    </tr>\n",
       "  </thead>\n",
       "  <tbody>\n",
       "    <tr>\n",
       "      <th>1</th>\n",
       "      <td>0.036364</td>\n",
       "      <td>1.0</td>\n",
       "    </tr>\n",
       "    <tr>\n",
       "      <th>2</th>\n",
       "      <td>0.055455</td>\n",
       "      <td>2.0</td>\n",
       "    </tr>\n",
       "    <tr>\n",
       "      <th>3</th>\n",
       "      <td>0.046364</td>\n",
       "      <td>3.0</td>\n",
       "    </tr>\n",
       "    <tr>\n",
       "      <th>4</th>\n",
       "      <td>0.046364</td>\n",
       "      <td>4.0</td>\n",
       "    </tr>\n",
       "    <tr>\n",
       "      <th>5</th>\n",
       "      <td>0.027273</td>\n",
       "      <td>5.0</td>\n",
       "    </tr>\n",
       "    <tr>\n",
       "      <th>6</th>\n",
       "      <td>0.027273</td>\n",
       "      <td>6.0</td>\n",
       "    </tr>\n",
       "    <tr>\n",
       "      <th>7</th>\n",
       "      <td>0.027273</td>\n",
       "      <td>7.0</td>\n",
       "    </tr>\n",
       "    <tr>\n",
       "      <th>8</th>\n",
       "      <td>0.037273</td>\n",
       "      <td>8.0</td>\n",
       "    </tr>\n",
       "    <tr>\n",
       "      <th>9</th>\n",
       "      <td>0.018182</td>\n",
       "      <td>9.0</td>\n",
       "    </tr>\n",
       "    <tr>\n",
       "      <th>10</th>\n",
       "      <td>0.027273</td>\n",
       "      <td>10.0</td>\n",
       "    </tr>\n",
       "    <tr>\n",
       "      <th>11</th>\n",
       "      <td>0.027273</td>\n",
       "      <td>11.0</td>\n",
       "    </tr>\n",
       "    <tr>\n",
       "      <th>12</th>\n",
       "      <td>0.027273</td>\n",
       "      <td>12.0</td>\n",
       "    </tr>\n",
       "    <tr>\n",
       "      <th>13</th>\n",
       "      <td>0.018182</td>\n",
       "      <td>13.0</td>\n",
       "    </tr>\n",
       "    <tr>\n",
       "      <th>14</th>\n",
       "      <td>0.027273</td>\n",
       "      <td>14.0</td>\n",
       "    </tr>\n",
       "    <tr>\n",
       "      <th>15</th>\n",
       "      <td>0.036364</td>\n",
       "      <td>15.0</td>\n",
       "    </tr>\n",
       "    <tr>\n",
       "      <th>16</th>\n",
       "      <td>0.027273</td>\n",
       "      <td>16.0</td>\n",
       "    </tr>\n",
       "    <tr>\n",
       "      <th>17</th>\n",
       "      <td>0.027273</td>\n",
       "      <td>17.0</td>\n",
       "    </tr>\n",
       "    <tr>\n",
       "      <th>18</th>\n",
       "      <td>0.046364</td>\n",
       "      <td>18.0</td>\n",
       "    </tr>\n",
       "    <tr>\n",
       "      <th>19</th>\n",
       "      <td>0.018182</td>\n",
       "      <td>19.0</td>\n",
       "    </tr>\n",
       "  </tbody>\n",
       "</table>\n",
       "</div>"
      ],
      "text/plain": [
       "       error     k\n",
       "1   0.036364   1.0\n",
       "2   0.055455   2.0\n",
       "3   0.046364   3.0\n",
       "4   0.046364   4.0\n",
       "5   0.027273   5.0\n",
       "6   0.027273   6.0\n",
       "7   0.027273   7.0\n",
       "8   0.037273   8.0\n",
       "9   0.018182   9.0\n",
       "10  0.027273  10.0\n",
       "11  0.027273  11.0\n",
       "12  0.027273  12.0\n",
       "13  0.018182  13.0\n",
       "14  0.027273  14.0\n",
       "15  0.036364  15.0\n",
       "16  0.027273  16.0\n",
       "17  0.027273  17.0\n",
       "18  0.046364  18.0\n",
       "19  0.018182  19.0"
      ]
     },
     "execution_count": 20,
     "metadata": {},
     "output_type": "execute_result"
    }
   ],
   "source": [
    "cross_val_scores"
   ]
  },
  {
   "cell_type": "markdown",
   "id": "4871661e-dd08-4caa-85d6-d0a0cddbe366",
   "metadata": {},
   "source": [
    "Abaixo conseguimos ver alguns bons candidatos a valores de K"
   ]
  },
  {
   "cell_type": "code",
   "execution_count": 21,
   "id": "41cd7508-8e23-4ea6-bfd2-87309f854074",
   "metadata": {},
   "outputs": [
    {
     "data": {
      "text/plain": [
       "[(0.0, 20.0)]"
      ]
     },
     "execution_count": 21,
     "metadata": {},
     "output_type": "execute_result"
    },
    {
     "data": {
      "text/plain": [
       "<Figure size 432x288 with 0 Axes>"
      ]
     },
     "metadata": {},
     "output_type": "display_data"
    },
    {
     "data": {
      "image/png": "[encoded data removed]",
      "text/plain": [
       "<Figure size 1080x504 with 1 Axes>"
      ]
     },
     "metadata": {
      "needs_background": "light"
     },
     "output_type": "display_data"
    }
   ],
   "source": [
    "import matplotlib.dates as md\n",
    "plt.figure()\n",
    "fig, ax = plt.subplots(figsize = (15, 7))\n",
    "ax.xaxis.set_minor_locator(md.DayLocator(interval = 1))\n",
    "my_plot = sns.lineplot(data=cross_val_scores, x=\"k\", y=\"error\")\n",
    "my_plot.set(xlim=(0, 20))"
   ]
  },
  {
   "cell_type": "markdown",
   "id": "59a3e4f0-5fbc-42c9-bfe8-7c2a4f836fd6",
   "metadata": {},
   "source": [
    "Treinando novamente o KNN com o melhor valor de K encontrado"
   ]
  },
  {
   "cell_type": "code",
   "execution_count": 22,
   "id": "93cf378f-f649-4676-8d60-d76355064769",
   "metadata": {},
   "outputs": [],
   "source": [
    "classifier_KNN = KNeighborsClassifier(n_neighbors=8)"
   ]
  },
  {
   "cell_type": "code",
   "execution_count": 23,
   "id": "d2b96d59-d481-477f-91fa-64df4c70208c",
   "metadata": {},
   "outputs": [
    {
     "data": {
      "text/plain": [
       "KNeighborsClassifier(n_neighbors=8)"
      ]
     },
     "execution_count": 23,
     "metadata": {},
     "output_type": "execute_result"
    }
   ],
   "source": [
    "classifier_KNN.fit(X_train, y_train)"
   ]
  },
  {
   "cell_type": "code",
   "execution_count": 24,
   "id": "593ca13d-40f2-4c22-b2df-1b026cc15efd",
   "metadata": {},
   "outputs": [],
   "source": [
    "y_pred = classifier_KNN.predict(X_test)"
   ]
  },
  {
   "cell_type": "code",
   "execution_count": 25,
   "id": "e24a1e87-7a4d-44df-9004-9ef91ebb0944",
   "metadata": {},
   "outputs": [
    {
     "data": {
      "text/plain": [
       "array([0.90909091, 0.90909091, 1.        , 1.        , 1.        ,\n",
       "       1.        , 1.        , 1.        , 1.        , 1.        ])"
      ]
     },
     "execution_count": 25,
     "metadata": {},
     "output_type": "execute_result"
    }
   ],
   "source": [
    "cross_val_score(knn, X_train, y_train, cv=10, scoring='accuracy')"
   ]
  },
  {
   "cell_type": "code",
   "execution_count": 26,
   "id": "a947f3a1-764c-439c-a13e-58e845f66cfd",
   "metadata": {},
   "outputs": [
    {
     "name": "stdout",
     "output_type": "stream",
     "text": [
      "Acurácia: 97.77777777777777 %\n"
     ]
    }
   ],
   "source": [
    "accuracy = accuracy_score(y_test, y_pred) * 100\n",
    "print(f'Acurácia: {str(accuracy) } %')"
   ]
  },
  {
   "cell_type": "code",
   "execution_count": 27,
   "id": "17c15e01-2bc8-4546-ad74-5cb489a2ee84",
   "metadata": {},
   "outputs": [
    {
     "name": "stdout",
     "output_type": "stream",
     "text": [
      "Acurácia: 97.78 %\n"
     ]
    }
   ],
   "source": [
    "grid_params = {\n",
    "    'n_neighbors': [2,4,6,8,10,12,14,16,20],\n",
    "    'metric': ['euclidean', 'manhattan']\n",
    "}\n",
    "\n",
    "grid = GridSearchCV(\n",
    "    KNeighborsClassifier(),\n",
    "    grid_params\n",
    ")\n",
    "\n",
    "grid.fit(X_train_std,y_train)\n",
    "y_pred = grid.predict(X_test_std)\n",
    "\n",
    "accuracy = accuracy_score(y_test, y_pred) * 100\n",
    "print(f'Acurácia: {str(round(accuracy, 2)) } %')"
   ]
  },
  {
   "cell_type": "code",
   "execution_count": 28,
   "id": "63355961-f0a7-407b-ad38-bb106f49e735",
   "metadata": {},
   "outputs": [
    {
     "data": {
      "text/plain": [
       "{'metric': 'euclidean', 'n_neighbors': 10}"
      ]
     },
     "execution_count": 28,
     "metadata": {},
     "output_type": "execute_result"
    }
   ],
   "source": [
    "grid.best_params_"
   ]
  },
  {
   "cell_type": "markdown",
   "id": "6634e96b-c646-4997-9599-30e02002f475",
   "metadata": {},
   "source": [
    "# Suport Vector Machine"
   ]
  },
  {
   "cell_type": "code",
   "execution_count": 29,
   "id": "ad8fecae-bf67-4ee8-b09c-6e0c30a00190",
   "metadata": {},
   "outputs": [],
   "source": [
    "from sklearn.svm import SVC"
   ]
  },
  {
   "cell_type": "code",
   "execution_count": 30,
   "id": "801b555b-0640-426b-9a17-d263b4e1c1f7",
   "metadata": {},
   "outputs": [
    {
     "data": {
      "text/plain": [
       "SVC(kernel='linear', random_state=1)"
      ]
     },
     "execution_count": 30,
     "metadata": {},
     "output_type": "execute_result"
    }
   ],
   "source": [
    "classifier_SVC = SVC(kernel = 'linear', random_state = 1)\n",
    "#Fit the model for the data\n",
    "\n",
    "classifier_SVC.fit(X_train, y_train)"
   ]
  },
  {
   "cell_type": "code",
   "execution_count": 31,
   "id": "5eeee230-b241-478d-a6fa-e17571ca29ad",
   "metadata": {},
   "outputs": [],
   "source": [
    "y_pred = classifier_SVC.predict(X_test)"
   ]
  },
  {
   "cell_type": "code",
   "execution_count": 32,
   "id": "b4c29056-1a13-4419-989e-e7a0420a2618",
   "metadata": {},
   "outputs": [],
   "source": [
    "param_grid = {'C': [0.1,1, 10, 100], 'gamma': [1,0.1,0.01,0.001]} "
   ]
  },
  {
   "cell_type": "code",
   "execution_count": 33,
   "id": "fb23acc4-e658-4f87-af0d-b3a2acab197b",
   "metadata": {},
   "outputs": [
    {
     "data": {
      "text/plain": [
       "GridSearchCV(estimator=SVC(),\n",
       "             param_grid={'C': [0.1, 1, 10, 100],\n",
       "                         'gamma': [1, 0.1, 0.01, 0.001]})"
      ]
     },
     "execution_count": 33,
     "metadata": {},
     "output_type": "execute_result"
    }
   ],
   "source": [
    "grid = GridSearchCV(SVC(),param_grid,refit=True)\n",
    "grid.fit(X_train,y_train)"
   ]
  },
  {
   "cell_type": "code",
   "execution_count": 34,
   "id": "3998ce36-8873-46ad-9e02-50e304cfca91",
   "metadata": {},
   "outputs": [],
   "source": [
    "y_pred = grid.predict(X_test)"
   ]
  },
  {
   "cell_type": "code",
   "execution_count": 35,
   "id": "3439ddf1-6c74-48fe-830c-4e1781a2cdb5",
   "metadata": {},
   "outputs": [
    {
     "name": "stdout",
     "output_type": "stream",
     "text": [
      "Acurácia: 93.33333333333333 %\n"
     ]
    }
   ],
   "source": [
    "accuracy = accuracy_score(y_test, y_pred) * 100\n",
    "print(f'Acurácia: {str(accuracy) } %')"
   ]
  },
  {
   "cell_type": "markdown",
   "id": "00e2caa2-f587-4579-96c3-af428b66c10a",
   "metadata": {},
   "source": [
    "# Random Forest"
   ]
  },
  {
   "cell_type": "code",
   "execution_count": 36,
   "id": "ccd8865a-fc98-4443-bb02-4ac62351014d",
   "metadata": {},
   "outputs": [],
   "source": [
    "from sklearn.ensemble import RandomForestClassifier"
   ]
  },
  {
   "cell_type": "code",
   "execution_count": 37,
   "id": "34732667-7acb-49e0-ab2e-e06de4359fc3",
   "metadata": {},
   "outputs": [],
   "source": [
    "classifier_RF=RandomForestClassifier(n_estimators=1, random_state = 0)\n",
    "\n",
    "#Train the model using the training sets y_pred=clf.predict(X_test)\n",
    "classifier_RF.fit(X_train, y_train)\n",
    "\n",
    "y_pred=classifier_RF.predict(X_test)"
   ]
  },
  {
   "cell_type": "code",
   "execution_count": 38,
   "id": "591519b5-e523-41c8-aff8-0fe3c5d9c1be",
   "metadata": {},
   "outputs": [],
   "source": [
    "param_grid = { \n",
    "    'n_estimators': [50, 100, 150],\n",
    "    'max_features': ['auto', 'sqrt', 'log2'],\n",
    "    'max_depth' : [4,5,6],\n",
    "    'criterion' :['gini', 'entropy']\n",
    "}"
   ]
  },
  {
   "cell_type": "code",
   "execution_count": 39,
   "id": "b368d186-91b9-4cdf-9e44-632d1cfa74b9",
   "metadata": {},
   "outputs": [],
   "source": [
    "from sklearn.model_selection import GridSearchCV"
   ]
  },
  {
   "cell_type": "code",
   "execution_count": 40,
   "id": "9009e8eb-a2d8-432e-a0ff-717081b461da",
   "metadata": {},
   "outputs": [
    {
     "data": {
      "text/plain": [
       "GridSearchCV(cv=5, estimator=RandomForestClassifier(random_state=0),\n",
       "             param_grid={'criterion': ['gini', 'entropy'],\n",
       "                         'max_depth': [4, 5, 6],\n",
       "                         'max_features': ['auto', 'sqrt', 'log2'],\n",
       "                         'n_estimators': [50, 100, 150]})"
      ]
     },
     "execution_count": 40,
     "metadata": {},
     "output_type": "execute_result"
    }
   ],
   "source": [
    "classifier_RF = RandomForestClassifier(random_state = 0)\n",
    "CV_classifier_RF = GridSearchCV(\n",
    "    estimator=classifier_RF, \n",
    "    param_grid=param_grid, cv= 5)\n",
    "CV_classifier_RF.fit(X_train, y_train)"
   ]
  },
  {
   "cell_type": "code",
   "execution_count": 41,
   "id": "f16f70ed-5b3e-45ba-8d1d-60dc61ebfa57",
   "metadata": {},
   "outputs": [],
   "source": [
    "y_pred = CV_classifier_RF.predict(X_test)"
   ]
  },
  {
   "cell_type": "code",
   "execution_count": 42,
   "id": "7388e21a-c18a-4038-b893-069d55b8cf9d",
   "metadata": {},
   "outputs": [
    {
     "name": "stdout",
     "output_type": "stream",
     "text": [
      "Acurácia: 93.33333333333333 %\n"
     ]
    }
   ],
   "source": [
    "accuracy = accuracy_score(y_test, y_pred) * 100\n",
    "print(f'Acurácia: {str(accuracy) } %')"
   ]
  },
  {
   "cell_type": "markdown",
   "id": "b59a0ee3",
   "metadata": {},
   "source": [
    "# Fuzzy C-means Algorithm"
   ]
  },
  {
   "cell_type": "code",
   "execution_count": 43,
   "id": "6bf00b76",
   "metadata": {},
   "outputs": [
    {
     "data": {
      "image/png": "[encoded data removed]",
      "text/plain": [
       "<Figure size 792x360 with 2 Axes>"
      ]
     },
     "metadata": {
      "needs_background": "light"
     },
     "output_type": "display_data"
    }
   ],
   "source": [
    "# plot result\n",
    "f, axes = plt.subplots(1, 2, figsize=(11,5))\n",
    "axes[0].scatter(x.iloc[:,0], x.iloc[:,1], c=y)\n",
    "axes[0].set_title('Sepal')\n",
    "axes[1].scatter(x.iloc[:,2], x.iloc[:,3], c=y)\n",
    "axes[0].set_title('Petal')\n",
    "plt.show()"
   ]
  },
  {
   "cell_type": "code",
   "execution_count": 44,
   "id": "dc371a7b-8983-4a4a-b54e-adc5e514a224",
   "metadata": {},
   "outputs": [],
   "source": [
    "x = x.to_numpy()"
   ]
  },
  {
   "cell_type": "code",
   "execution_count": 45,
   "id": "fbfac30b",
   "metadata": {},
   "outputs": [],
   "source": [
    "fcm = FCM(n_clusters=3)\n",
    "fcm.fit(x)"
   ]
  },
  {
   "cell_type": "code",
   "execution_count": 46,
   "id": "3f7adf0b",
   "metadata": {},
   "outputs": [
    {
     "data": {
      "image/png": "[encoded data removed]",
      "text/plain": [
       "<Figure size 792x360 with 2 Axes>"
      ]
     },
     "metadata": {
      "needs_background": "light"
     },
     "output_type": "display_data"
    }
   ],
   "source": [
    "pc = fcm.partition_coefficient\n",
    "pec = fcm.partition_entropy_coefficient\n",
    "\n",
    "fcm_centers = fcm.centers\n",
    "fcm_labels = fcm.predict(x)\n",
    "\n",
    "# plot result\n",
    "f, axe = plt.subplots(1, 2, figsize=(11,5))\n",
    "axe[0].scatter(x[:,0], x[:,1], c=fcm_labels)\n",
    "axe[0].scatter(fcm_centers[:,0], fcm_centers[:,1], marker=\"+\", s=500, c='black')\n",
    "axe[0].set_title(f'PC = {pc:.3f}, PEC = {pec:.3f}')\n",
    "axe[1].scatter(x[:,2], x[:,3], c=fcm_labels)\n",
    "axe[1].scatter(fcm_centers[:,2], fcm_centers[:,3], marker=\"+\", s=500, c='black')\n",
    "axe[1].set_title(f'PC = {pc:.3f}, PEC = {pec:.3f}')\n",
    "plt.show()"
   ]
  },
  {
   "cell_type": "markdown",
   "id": "847bedcb",
   "metadata": {},
   "source": [
    "# Kmeans Algorithm"
   ]
  },
  {
   "cell_type": "code",
   "execution_count": 47,
   "id": "9dc34dbb",
   "metadata": {},
   "outputs": [],
   "source": [
    "from sklearn.cluster import KMeans"
   ]
  },
  {
   "cell_type": "code",
   "execution_count": 48,
   "id": "19bf596e",
   "metadata": {},
   "outputs": [
    {
     "data": {
      "text/plain": [
       "KMeans(n_clusters=3)"
      ]
     },
     "execution_count": 48,
     "metadata": {},
     "output_type": "execute_result"
    }
   ],
   "source": [
    "kmeans = KMeans(n_clusters=3)\n",
    "kmeans.fit(x)"
   ]
  },
  {
   "cell_type": "code",
   "execution_count": 49,
   "id": "11e80929",
   "metadata": {},
   "outputs": [
    {
     "data": {
      "image/png": "[encoded data removed]",
      "text/plain": [
       "<Figure size 792x360 with 2 Axes>"
      ]
     },
     "metadata": {
      "needs_background": "light"
     },
     "output_type": "display_data"
    }
   ],
   "source": [
    "f, axe = plt.subplots(1, 2, figsize=(11,5))\n",
    "axe[0].scatter(x[:,0], x[:,1], c=fcm_labels)\n",
    "axe[0].scatter(kmeans.cluster_centers_[:,0], kmeans.cluster_centers_[:,1], marker=\"+\", s=1000, c='black')\n",
    "axe[0].set_title(f'Sepal')\n",
    "axe[1].scatter(x[:,2], x[:,3], c=fcm_labels)\n",
    "axe[1].scatter(kmeans.cluster_centers_[:,2], kmeans.cluster_centers_[:,3], marker=\"+\", s=1000, c='black')\n",
    "axe[1].set_title(f'Petal')\n",
    "plt.show()"
   ]
  },
  {
   "cell_type": "code",
   "execution_count": 50,
   "id": "ebe636e9",
   "metadata": {},
   "outputs": [
    {
     "data": {
      "text/plain": [
       "{'algorithm': 'auto',\n",
       " 'copy_x': True,\n",
       " 'init': 'k-means++',\n",
       " 'max_iter': 300,\n",
       " 'n_clusters': 3,\n",
       " 'n_init': 10,\n",
       " 'n_jobs': 'deprecated',\n",
       " 'precompute_distances': 'deprecated',\n",
       " 'random_state': None,\n",
       " 'tol': 0.0001,\n",
       " 'verbose': 0}"
      ]
     },
     "execution_count": 50,
     "metadata": {},
     "output_type": "execute_result"
    }
   ],
   "source": [
    "kmeans.get_params()"
   ]
  },
  {
   "cell_type": "code",
   "execution_count": null,
   "id": "7633692f-e155-47e9-97e0-bf7e4d6be5cd",
   "metadata": {},
   "outputs": [],
   "source": []
  },
  {
   "cell_type": "code",
   "execution_count": null,
   "id": "e4ff03a2-b061-47a7-a203-60cd9ea936a9",
   "metadata": {},
   "outputs": [],
   "source": []
  }
 ],
 "metadata": {
  "kernelspec": {
   "display_name": "Python 3",
   "language": "python",
   "name": "python3"
  },
  "language_info": {
   "codemirror_mode": {
    "name": "ipython",
    "version": 3
   },
   "file_extension": ".py",
   "mimetype": "text/x-python",
   "name": "python",
   "nbconvert_exporter": "python",
   "pygments_lexer": "ipython3",
   "version": "3.8.8"
  }
 },
 "nbformat": 4,
 "nbformat_minor": 5
}
